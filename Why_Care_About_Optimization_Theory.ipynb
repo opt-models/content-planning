{
 "cells": [
  {
   "cell_type": "markdown",
   "id": "4981137a",
   "metadata": {},
   "source": [
    "# Why care about optimization theory at all?\n",
    "## An introduction to Optimization Theory\n",
    "### By Frederick \"Forrest\" Miller\n",
    "\n",
    "In this series of notebooks, we will \n",
    "1. Motivate the need for developing a rich theory of mathematical optimization\n",
    "2. How seemingly simple problems can lead to the necessity of more advanced optimization algorithms \n",
    "3. Discuss what techniques many modern commericial solvers (likely) use to achieve their state of the art performance \n",
    "\n",
    "Then, we will translate the ideas of these notebooks into well made YouTube videos.\n",
    "\n",
    "To give a flavor of this, we will start with a motivating algorithm: Gradient Descent (GD)\n",
    "\n",
    "GD is one of the simplest algorithms out there to solve optimization problems, in part because of how intuitive it is. \n",
    "\n",
    "Consider a function $f: \\mathbb{R} \\to \\mathbb{R}$ such that $f(x) = x^2$. Here, gradient descent, starting at a random point, and a sufficient step size choice, will work quite well. \n",
    "\n",
    "However, even a slightly more complicated problem $f: \\mathbb{R}^2 \\to \\mathbb{R}$ such that $f(x,y) = x^2 + 10y^2$. Here, gradient descent will be not good <span style=\"color:red\">(hopefully. Todo: make sure!)</span>.\n",
    "\n",
    "\n",
    "Want to go over\n",
    "\n",
    "1. nonconvexity and how that breaks this - the problem of local minima\n",
    "2. Ill conditioning - making things glacial \n",
    "3. step size choice : backtracking line search or trust region methods \n",
    "\n",
    "Can still be good for ML problems since it can avoid overfitting? Look into this "
   ]
  }
 ],
 "metadata": {
  "kernelspec": {
   "display_name": "Python 3",
   "language": "python",
   "name": "python3"
  },
  "language_info": {
   "codemirror_mode": {
    "name": "ipython",
    "version": 3
   },
   "file_extension": ".py",
   "mimetype": "text/x-python",
   "name": "python",
   "nbconvert_exporter": "python",
   "pygments_lexer": "ipython3",
   "version": "3.8.2"
  }
 },
 "nbformat": 4,
 "nbformat_minor": 5
}
